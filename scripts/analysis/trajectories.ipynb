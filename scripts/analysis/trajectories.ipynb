{
 "cells": [
  {
   "cell_type": "code",
   "execution_count": null,
   "id": "a4dbf009",
   "metadata": {},
   "outputs": [],
   "source": [
    "import sys\n",
    "import os\n",
    "import torch\n",
    "import random\n",
    "import numpy as np\n",
    "import pandas as pd\n",
    "import matplotlib.pyplot as plt\n",
    "\n",
    "import AstroChemNet.data_processing as dp\n",
    "from AstroChemNet.inference import Inference\n",
    "from AstroChemNet.loss import Loss\n",
    "import AstroChemNet.data_loading as dl\n",
    "\n",
    "project_root = os.path.abspath(os.path.join(os.path.dirname(__file__), \"../..\"))\n",
    "os.chdir(project_root)\n",
    "sys.path.insert(0, project_root)\n",
    "    \n",
    "from configs.general import GeneralConfig\n",
    "from configs.autoencoder import AEConfig\n",
    "from configs.emulator import EMConfig\n",
    "from nn_architectures.autoencoder import Autoencoder, load_autoencoder\n",
    "from nn_architectures.emulator import Emulator, load_emulator"
   ]
  },
  {
   "cell_type": "code",
   "execution_count": null,
   "id": "4a6bd4c3",
   "metadata": {},
   "outputs": [],
   "source": [
    "autoencoder = load_autoencoder(Autoencoder, GeneralConfig, AEConfig, inference=True)\n",
    "\n",
    "processing = dp.Processing(GeneralConfig, AEConfig)\n",
    "inference = Inference(GeneralConfig, processing, autoencoder)"
   ]
  },
  {
   "cell_type": "code",
   "execution_count": null,
   "id": "00fa539f",
   "metadata": {},
   "outputs": [],
   "source": [
    "training_np, validation_np = dl.load_datasets(GeneralConfig, EMConfig.columns)\n",
    "del validation_np"
   ]
  },
  {
   "cell_type": "code",
   "execution_count": null,
   "id": "e9bd7a46",
   "metadata": {},
   "outputs": [],
   "source": [
    "training_np"
   ]
  }
 ],
 "metadata": {
  "language_info": {
   "name": "python"
  }
 },
 "nbformat": 4,
 "nbformat_minor": 5
}
