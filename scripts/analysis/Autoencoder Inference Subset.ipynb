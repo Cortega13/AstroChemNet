{
 "cells": [
  {
   "cell_type": "code",
   "execution_count": null,
   "metadata": {},
   "outputs": [],
   "source": [
    "import os\n",
    "import sys\n",
    "import numpy as np\n",
    "import pandas as pd\n",
    "import torch\n",
    "\n",
    "sys.path.append(os.path.abspath(\"../..\"))\n",
    "\n",
    "from configs.general import GeneralConfig\n",
    "from configs.autoencoder import AEConfig\n",
    "from nn_architectures.autoencoder import Autoencoder, load_autoencoder\n",
    "import AstroChemNet.data_processing as dp\n",
    "from AstroChemNet.inference import Inference"
   ]
  },
  {
   "cell_type": "code",
   "execution_count": null,
   "metadata": {},
   "outputs": [],
   "source": [
    "df = pd.read_hdf(\"../../data/grav_collapse_clean.h5\", key=\"val\")\n",
    "\n",
    "autoencoder = load_autoencoder(Autoencoder, GeneralConfig, AEConfig, inference=True)\n",
    "\n",
    "processing = dp.Processing(GeneralConfig, AEConfig)\n",
    "\n",
    "inference = Inference(GeneralConfig, processing, autoencoder)"
   ]
  },
  {
   "cell_type": "code",
   "execution_count": null,
   "metadata": {},
   "outputs": [],
   "source": [
    "unique_models = df['Model'].unique()\n",
    "random_models = np.random.choice(unique_models, 100, replace=False)\n",
    "subset_df = df[df['Model'].isin(random_models)].groupby('Model').first().reset_index()"
   ]
  },
  {
   "cell_type": "code",
   "execution_count": null,
   "metadata": {},
   "outputs": [],
   "source": [
    "results = []\n",
    "for idx, row in subset_df.iterrows():\n",
    "    abundances = row[GeneralConfig.species].values.astype(np.float32).reshape(1, -1)\n",
    "    processing.abundances_scaling(abundances)\n",
    "    latents = inference.encode(abundances).cpu().numpy().flatten()\n",
    "    result = {\n",
    "        'Model': row['Model'],\n",
    "        'Time': row['Time'],\n",
    "        'Density': row['Density'],\n",
    "        'gasTemp': row['gasTemp'],\n",
    "        'Av': row['Av'],\n",
    "        'Radfield': row['Radfield'],\n",
    "    }\n",
    "    for i in range(len(latents)):\n",
    "        result[f'latent_{i}'] = latents[i]\n",
    "    results.append(result)\n",
    "\n",
    "output_df = pd.DataFrame(results)"
   ]
  },
  {
   "cell_type": "code",
   "execution_count": null,
   "metadata": {},
   "outputs": [],
   "source": [
    "output_df"
   ]
  }
 ],
 "metadata": {
  "kernelspec": {
   "display_name": "Python 3",
   "language": "python",
   "name": "python3"
  },
  "language_info": {
   "codemirror_mode": {
    "name": "ipython",
    "version": 3
   },
   "file_extension": ".py",
   "mimetype": "text/x-python",
   "name": "python",
   "nbconvert_exporter": "python",
   "pygments_lexer": "ipython3",
   "version": "3.8.5"
  }
 },
 "nbformat": 4,
 "nbformat_minor": 4
}
