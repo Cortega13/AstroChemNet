{
 "cells": [
  {
   "cell_type": "code",
   "execution_count": 1,
   "id": "d2138d22",
   "metadata": {},
   "outputs": [],
   "source": [
    "import sys\n",
    "import os\n",
    "import torch\n",
    "import json\n",
    "import numpy as np\n",
    "import pandas as pd\n",
    "import matplotlib.pyplot as plt\n",
    "\n",
    "sys.path.append(os.path.abspath(\"../..\"))\n",
    "\n",
    "import AstroChemNet.data_processing as dp\n",
    "from AstroChemNet.inference import Inference\n",
    "import AstroChemNet.data_loading as dl\n",
    "from configs.autoencoder import AEConfig\n",
    "from configs.general import GeneralConfig\n",
    "from nn_architectures.autoencoder import Autoencoder, load_autoencoder"
   ]
  },
  {
   "cell_type": "code",
   "execution_count": 2,
   "id": "9b3457ae",
   "metadata": {},
   "outputs": [
    {
     "name": "stdout",
     "output_type": "stream",
     "text": [
      "Loading Pretrained Model\n",
      "Setting Autoencoder to Inference Mode\n",
      "Latents MinMax: -0.16997122764587402, 40.74977493286133\n"
     ]
    }
   ],
   "source": [
    "autoencoder = load_autoencoder(Autoencoder, GeneralConfig, AEConfig, inference=True)\n",
    "\n",
    "processing = dp.Processing(GeneralConfig, AEConfig)\n",
    "inference = Inference(\n",
    "    GeneralConfig,\n",
    "    processing,\n",
    "    autoencoder,\n",
    ")"
   ]
  },
  {
   "cell_type": "code",
   "execution_count": 3,
   "id": "a1418594",
   "metadata": {},
   "outputs": [
    {
     "name": "stdout",
     "output_type": "stream",
     "text": [
      "Data_matrix Memory usage: 1129.568 MB\n"
     ]
    }
   ],
   "source": [
    "training_np, validation_np = dl.load_datasets(GeneralConfig, AEConfig.columns)\n",
    "del training_np\n",
    "\n",
    "processing.abundances_scaling(validation_np)\n",
    "validation_dataset = torch.from_numpy(validation_np)\n",
    "\n",
    "validation_Dataset = dl.AutoencoderDataset(validation_dataset)\n",
    "\n",
    "validation_dataloader = dl.tensor_to_dataloader(AEConfig, validation_Dataset)"
   ]
  },
  {
   "cell_type": "code",
   "execution_count": 4,
   "id": "62aae8f3",
   "metadata": {},
   "outputs": [
    {
     "name": "stdout",
     "output_type": "stream",
     "text": [
      "Mean Error: 0.01821904\n",
      "Std Error: 0.01168675\n",
      "Max Error: 0.05770965\n"
     ]
    }
   ],
   "source": [
    "def calculate_errors(outputs, targets):\n",
    "    targets = processing.inverse_abundances_scaling(targets)\n",
    "    errors = torch.abs((outputs - targets) / targets)\n",
    "    return errors.mean(dim=0)\n",
    "\n",
    "species_errors = np.zeros(333)\n",
    "for i, features in enumerate(validation_dataloader):\n",
    "    features = features[0].to(GeneralConfig.device)\n",
    "    latents = inference.encode(features)\n",
    "    outputs = inference.decode(latents)\n",
    "\n",
    "    species_errors += calculate_errors(outputs, features).numpy()\n",
    "\n",
    "species_errors /= len(validation_dataloader)\n",
    "print(f\"Mean Error: {species_errors.mean():.8f}\")\n",
    "print(f\"Std Error: {species_errors.std():.8f}\")\n",
    "print(f\"Max Error: {species_errors.max():.8f}\")"
   ]
  },
  {
   "cell_type": "code",
   "execution_count": null,
   "id": "5ea4d1fd",
   "metadata": {},
   "outputs": [],
   "source": [
    "epochs_path = os.path.splitext(AEConfig.save_model_path)[0] + \".json\"\n",
    "\n",
    "with open(epochs_path, \"r\") as f:\n",
    "    data = json.load(f)\n",
    "\n",
    "df = pd.DataFrame(data)\n",
    "\n",
    "plt.figure(figsize=(12, 6))\n",
    "plt.plot(df.index, np.log10(df[\"mean\"]), label=\"Mean\")\n",
    "\n",
    "dropout_changes = df[\"dropout\"].diff() < 0\n",
    "for idx in df.index[dropout_changes]:\n",
    "    plt.axvline(\n",
    "        x=idx,\n",
    "        color=\"red\",\n",
    "        linestyle=\"--\",\n",
    "        linewidth=1,\n",
    "        label=\"Dropout decrease\"\n",
    "        if \"Dropout decrease\" not in plt.gca().get_legend_handles_labels()[1]\n",
    "        else \"\",\n",
    "    )\n",
    "\n",
    "lr_changes = df[\"learning_rate\"].diff() < 0\n",
    "for idx in df.index[lr_changes]:\n",
    "    plt.axvline(\n",
    "        x=idx,\n",
    "        color=\"blue\",\n",
    "        linestyle=\"--\",\n",
    "        linewidth=1,\n",
    "        label=\"Learning rate decrease\"\n",
    "        if \"Learning rate decrease\" not in plt.gca().get_legend_handles_labels()[1]\n",
    "        else \"\",\n",
    "    )\n",
    "\n",
    "plt.title(\"Log Mean Relative Error vs. Epochs Training Plot\")\n",
    "plt.xlabel(\"Epochs\")\n",
    "plt.ylabel(\"Log Mean Relative error\")\n",
    "plt.legend()\n",
    "plt.grid(True)\n",
    "plt.tight_layout()\n",
    "plt.show()\n",
    "\n",
    "df"
   ]
  }
 ],
 "metadata": {
  "kernelspec": {
   "display_name": "Python 3",
   "language": "python",
   "name": "python3"
  },
  "language_info": {
   "codemirror_mode": {
    "name": "ipython",
    "version": 3
   },
   "file_extension": ".py",
   "mimetype": "text/x-python",
   "name": "python",
   "nbconvert_exporter": "python",
   "pygments_lexer": "ipython3",
   "version": "3.11.9"
  }
 },
 "nbformat": 4,
 "nbformat_minor": 5
}
