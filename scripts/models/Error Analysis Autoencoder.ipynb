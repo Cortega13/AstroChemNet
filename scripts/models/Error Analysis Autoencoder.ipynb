{
 "cells": [
  {
   "cell_type": "code",
   "execution_count": 1,
   "id": "d2138d22",
   "metadata": {},
   "outputs": [],
   "source": [
    "import json\n",
    "import os\n",
    "import sys\n",
    "\n",
    "import matplotlib.pyplot as plt\n",
    "import numpy as np\n",
    "import pandas as pd\n",
    "import torch\n",
    "\n",
    "sys.path.append(os.path.abspath(\"../..\"))\n",
    "\n",
    "import AstroChemNet.data_loading as dl\n",
    "import AstroChemNet.data_processing as dp\n",
    "from AstroChemNet.inference import Inference\n",
    "from configs.autoencoder import AEConfig\n",
    "from configs.general import GeneralConfig\n",
    "from nn_architectures.autoencoder import Autoencoder, load_autoencoder"
   ]
  },
  {
   "cell_type": "code",
   "execution_count": 2,
   "id": "9b3457ae",
   "metadata": {},
   "outputs": [
    {
     "name": "stdout",
     "output_type": "stream",
     "text": [
      "Loading Pretrained Model\n",
      "Setting Autoencoder to Inference Mode\n",
      "Latents MinMax: -0.16997122764587402, 31.517663955688477\n"
     ]
    }
   ],
   "source": [
    "autoencoder = load_autoencoder(Autoencoder, GeneralConfig, AEConfig, inference=True)\n",
    "\n",
    "processing = dp.Processing(GeneralConfig, AEConfig)\n",
    "inference = Inference(\n",
    "    GeneralConfig,\n",
    "    processing,\n",
    "    autoencoder,\n",
    ")"
   ]
  },
  {
   "cell_type": "code",
   "execution_count": 3,
   "id": "a1418594",
   "metadata": {},
   "outputs": [
    {
     "name": "stdout",
     "output_type": "stream",
     "text": [
      "Data_matrix Memory usage: 1129.568 MB\n"
     ]
    }
   ],
   "source": [
    "training_np, validation_np = dl.load_datasets(GeneralConfig, AEConfig.columns)\n",
    "del training_np\n",
    "\n",
    "processing.abundances_scaling(validation_np)\n",
    "validation_dataset = torch.from_numpy(validation_np)\n",
    "\n",
    "validation_Dataset = dl.AutoencoderDataset(validation_dataset)\n",
    "\n",
    "validation_dataloader = dl.tensor_to_dataloader(AEConfig, validation_Dataset)"
   ]
  },
  {
   "cell_type": "code",
   "execution_count": 4,
   "id": "62aae8f3",
   "metadata": {},
   "outputs": [
    {
     "name": "stdout",
     "output_type": "stream",
     "text": [
      "Mean Error: 0.01949420\n",
      "Std Error: 0.01232785\n",
      "Max Error: 0.05929030\n"
     ]
    }
   ],
   "source": [
    "def calculate_errors(outputs, targets):\n",
    "    targets = processing.inverse_abundances_scaling(targets)\n",
    "    errors = torch.abs((outputs - targets) / targets)\n",
    "    return errors.mean(dim=0)\n",
    "\n",
    "\n",
    "species_errors = np.zeros(333)\n",
    "for i, features in enumerate(validation_dataloader):\n",
    "    features = features[0].to(GeneralConfig.device)\n",
    "    latents = inference.encode(features)\n",
    "    outputs = inference.decode(latents)\n",
    "\n",
    "    species_errors += calculate_errors(outputs, features).numpy()\n",
    "\n",
    "species_errors /= len(validation_dataloader)\n",
    "print(f\"Mean Error: {species_errors.mean():.8f}\")\n",
    "print(f\"Std Error: {species_errors.std():.8f}\")\n",
    "print(f\"Max Error: {species_errors.max():.8f}\")"
   ]
  },
  {
   "cell_type": "code",
   "execution_count": 5,
   "id": "5ea4d1fd",
   "metadata": {},
   "outputs": [
    {
     "ename": "FileNotFoundError",
     "evalue": "[Errno 2] No such file or directory: 'c:\\\\Users\\\\carlo\\\\Projects\\\\AstroResearch\\\\AstroChemNet\\\\weights/autoencoder.json'",
     "output_type": "error",
     "traceback": [
      "\u001b[1;31m---------------------------------------------------------------------------\u001b[0m",
      "\u001b[1;31mFileNotFoundError\u001b[0m                         Traceback (most recent call last)",
      "Cell \u001b[1;32mIn[5], line 3\u001b[0m\n\u001b[0;32m      1\u001b[0m epochs_path \u001b[38;5;241m=\u001b[39m os\u001b[38;5;241m.\u001b[39mpath\u001b[38;5;241m.\u001b[39msplitext(AEConfig\u001b[38;5;241m.\u001b[39msave_model_path)[\u001b[38;5;241m0\u001b[39m] \u001b[38;5;241m+\u001b[39m \u001b[38;5;124m\"\u001b[39m\u001b[38;5;124m.json\u001b[39m\u001b[38;5;124m\"\u001b[39m\n\u001b[1;32m----> 3\u001b[0m \u001b[38;5;28;01mwith\u001b[39;00m \u001b[38;5;28;43mopen\u001b[39;49m\u001b[43m(\u001b[49m\u001b[43mepochs_path\u001b[49m\u001b[43m,\u001b[49m\u001b[43m \u001b[49m\u001b[38;5;124;43m\"\u001b[39;49m\u001b[38;5;124;43mr\u001b[39;49m\u001b[38;5;124;43m\"\u001b[39;49m\u001b[43m)\u001b[49m \u001b[38;5;28;01mas\u001b[39;00m f:\n\u001b[0;32m      4\u001b[0m     data \u001b[38;5;241m=\u001b[39m json\u001b[38;5;241m.\u001b[39mload(f)\n\u001b[0;32m      6\u001b[0m df \u001b[38;5;241m=\u001b[39m pd\u001b[38;5;241m.\u001b[39mDataFrame(data)\n",
      "File \u001b[1;32m~\\AppData\\Local\\Packages\\PythonSoftwareFoundation.Python.3.11_qbz5n2kfra8p0\\LocalCache\\local-packages\\Python311\\site-packages\\IPython\\core\\interactiveshell.py:308\u001b[0m, in \u001b[0;36m_modified_open\u001b[1;34m(file, *args, **kwargs)\u001b[0m\n\u001b[0;32m    301\u001b[0m \u001b[38;5;28;01mif\u001b[39;00m file \u001b[38;5;129;01min\u001b[39;00m {\u001b[38;5;241m0\u001b[39m, \u001b[38;5;241m1\u001b[39m, \u001b[38;5;241m2\u001b[39m}:\n\u001b[0;32m    302\u001b[0m     \u001b[38;5;28;01mraise\u001b[39;00m \u001b[38;5;167;01mValueError\u001b[39;00m(\n\u001b[0;32m    303\u001b[0m         \u001b[38;5;124mf\u001b[39m\u001b[38;5;124m\"\u001b[39m\u001b[38;5;124mIPython won\u001b[39m\u001b[38;5;124m'\u001b[39m\u001b[38;5;124mt let you open fd=\u001b[39m\u001b[38;5;132;01m{\u001b[39;00mfile\u001b[38;5;132;01m}\u001b[39;00m\u001b[38;5;124m by default \u001b[39m\u001b[38;5;124m\"\u001b[39m\n\u001b[0;32m    304\u001b[0m         \u001b[38;5;124m\"\u001b[39m\u001b[38;5;124mas it is likely to crash IPython. If you know what you are doing, \u001b[39m\u001b[38;5;124m\"\u001b[39m\n\u001b[0;32m    305\u001b[0m         \u001b[38;5;124m\"\u001b[39m\u001b[38;5;124myou can use builtins\u001b[39m\u001b[38;5;124m'\u001b[39m\u001b[38;5;124m open.\u001b[39m\u001b[38;5;124m\"\u001b[39m\n\u001b[0;32m    306\u001b[0m     )\n\u001b[1;32m--> 308\u001b[0m \u001b[38;5;28;01mreturn\u001b[39;00m \u001b[43mio_open\u001b[49m\u001b[43m(\u001b[49m\u001b[43mfile\u001b[49m\u001b[43m,\u001b[49m\u001b[43m \u001b[49m\u001b[38;5;241;43m*\u001b[39;49m\u001b[43margs\u001b[49m\u001b[43m,\u001b[49m\u001b[43m \u001b[49m\u001b[38;5;241;43m*\u001b[39;49m\u001b[38;5;241;43m*\u001b[39;49m\u001b[43mkwargs\u001b[49m\u001b[43m)\u001b[49m\n",
      "\u001b[1;31mFileNotFoundError\u001b[0m: [Errno 2] No such file or directory: 'c:\\\\Users\\\\carlo\\\\Projects\\\\AstroResearch\\\\AstroChemNet\\\\weights/autoencoder.json'"
     ]
    }
   ],
   "source": [
    "epochs_path = os.path.splitext(AEConfig.save_model_path)[0] + \".json\"\n",
    "\n",
    "with open(epochs_path, \"r\") as f:\n",
    "    data = json.load(f)\n",
    "\n",
    "df = pd.DataFrame(data)\n",
    "\n",
    "plt.figure(figsize=(12, 6))\n",
    "plt.plot(df.index, np.log10(df[\"mean\"]), label=\"Mean\")\n",
    "\n",
    "dropout_changes = df[\"dropout\"].diff() < 0\n",
    "for idx in df.index[dropout_changes]:\n",
    "    plt.axvline(\n",
    "        x=idx,\n",
    "        color=\"red\",\n",
    "        linestyle=\"--\",\n",
    "        linewidth=1,\n",
    "        label=\"Dropout decrease\"\n",
    "        if \"Dropout decrease\" not in plt.gca().get_legend_handles_labels()[1]\n",
    "        else \"\",\n",
    "    )\n",
    "\n",
    "lr_changes = df[\"learning_rate\"].diff() < 0\n",
    "for idx in df.index[lr_changes]:\n",
    "    plt.axvline(\n",
    "        x=idx,\n",
    "        color=\"blue\",\n",
    "        linestyle=\"--\",\n",
    "        linewidth=1,\n",
    "        label=\"Learning rate decrease\"\n",
    "        if \"Learning rate decrease\" not in plt.gca().get_legend_handles_labels()[1]\n",
    "        else \"\",\n",
    "    )\n",
    "\n",
    "plt.title(\"Log Mean Relative Error vs. Epochs Training Plot\")\n",
    "plt.xlabel(\"Epochs\")\n",
    "plt.ylabel(\"Log Mean Relative error\")\n",
    "plt.legend()\n",
    "plt.grid(True)\n",
    "plt.tight_layout()\n",
    "plt.show()\n",
    "\n",
    "df"
   ]
  }
 ],
 "metadata": {
  "kernelspec": {
   "display_name": "Python 3",
   "language": "python",
   "name": "python3"
  },
  "language_info": {
   "codemirror_mode": {
    "name": "ipython",
    "version": 3
   },
   "file_extension": ".py",
   "mimetype": "text/x-python",
   "name": "python",
   "nbconvert_exporter": "python",
   "pygments_lexer": "ipython3",
   "version": "3.11.9"
  }
 },
 "nbformat": 4,
 "nbformat_minor": 5
}
