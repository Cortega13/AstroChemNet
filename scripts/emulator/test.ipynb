{
 "cells": [
  {
   "cell_type": "code",
   "execution_count": 2,
   "id": "1255b1e6",
   "metadata": {},
   "outputs": [],
   "source": [
    "from config import (\n",
    "    GeneralConfig,\n",
    "    AEConfig,\n",
    "    EMConfig\n",
    ")\n",
    "\n",
    "import pandas as pd"
   ]
  },
  {
   "cell_type": "code",
   "execution_count": 5,
   "id": "3cf0a123",
   "metadata": {},
   "outputs": [
    {
     "data": {
      "text/plain": [
       "C      1.000000e-10\n",
       "C+     1.770000e-04\n",
       "CL+    3.390000e-08\n",
       "E-     1.823240e-04\n",
       "H      5.000000e-01\n",
       "H2     2.500000e-01\n",
       "HE     1.000000e-01\n",
       "MG     2.256000e-06\n",
       "N      6.180000e-05\n",
       "O      3.340000e-04\n",
       "S+     3.510000e-06\n",
       "SI+    1.780000e-06\n",
       "Name: 0, dtype: float64"
      ]
     },
     "execution_count": 5,
     "metadata": {},
     "output_type": "execute_result"
    }
   ],
   "source": [
    "df = pd.DataFrame(GeneralConfig.initial_abundances, columns=GeneralConfig.species).iloc[0]\n",
    "\n",
    "df[df > 1e-28]"
   ]
  }
 ],
 "metadata": {
  "kernelspec": {
   "display_name": "Python 3",
   "language": "python",
   "name": "python3"
  },
  "language_info": {
   "codemirror_mode": {
    "name": "ipython",
    "version": 3
   },
   "file_extension": ".py",
   "mimetype": "text/x-python",
   "name": "python",
   "nbconvert_exporter": "python",
   "pygments_lexer": "ipython3",
   "version": "3.11.9"
  }
 },
 "nbformat": 4,
 "nbformat_minor": 5
}
