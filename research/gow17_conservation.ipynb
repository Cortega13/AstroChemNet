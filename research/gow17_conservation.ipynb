{
 "cells": [
  {
   "cell_type": "markdown",
   "id": "9453a3ae",
   "metadata": {},
   "source": [
    "$$\n",
    "n_{\\mathrm{C}} = x_{\\mathrm{C,tot}} - n_{\\mathrm{HCO}^+} - n_{\\mathrm{CH}} - n_{\\mathrm{CO}} - n_{\\mathrm{C}^+}\n",
    "$$"
   ]
  },
  {
   "cell_type": "code",
   "execution_count": null,
   "id": "7f5b383b",
   "metadata": {},
   "outputs": [
    {
     "name": "stdout",
     "output_type": "stream",
     "text": [
      "Actual n_C: 9.988900e-10\n",
      "Predicted n_C: -9.900011e-08\n"
     ]
    }
   ],
   "source": [
    "x_C_tot = 1.0e-4\n",
    "n_C_plus = 0.99999e-4\n",
    "n_CO = 1.0e-12\n",
    "n_CH = 1.0e-13\n",
    "n_HCO_plus = 1.0e-14\n",
    "\n",
    "n_C_actual = x_C_tot - (n_C_plus + n_CO + n_CH + n_HCO_plus)\n",
    "\n",
    "# Pretend our n_C_plus has a 0.1% error\n",
    "n_C_plus_err = n_C_plus * 1.001\n",
    "\n",
    "n_C_pred = x_C_tot - (n_C_plus_err + n_CO + n_CH + n_HCO_plus)\n",
    "\n",
    "print(f\"Actual n_C: {n_C_actual:.6e}\")\n",
    "print(f\"Predicted n_C: {n_C_pred:.6e}\")"
   ]
  }
 ],
 "metadata": {
  "kernelspec": {
   "display_name": "Python 3",
   "language": "python",
   "name": "python3"
  },
  "language_info": {
   "codemirror_mode": {
    "name": "ipython",
    "version": 3
   },
   "file_extension": ".py",
   "mimetype": "text/x-python",
   "name": "python",
   "nbconvert_exporter": "python",
   "pygments_lexer": "ipython3",
   "version": "3.11.9"
  }
 },
 "nbformat": 4,
 "nbformat_minor": 5
}
