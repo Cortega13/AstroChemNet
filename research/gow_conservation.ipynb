{
 "cells": [
  {
   "cell_type": "code",
   "execution_count": 1,
   "id": "49454833",
   "metadata": {},
   "outputs": [],
   "source": [
    "import sys, os\n",
    "\n",
    "sys.path.append(os.path.abspath(\"..\"))"
   ]
  },
  {
   "cell_type": "code",
   "execution_count": 17,
   "id": "772951d8",
   "metadata": {},
   "outputs": [],
   "source": [
    "from configs.general import GeneralConfig\n",
    "import numpy as np"
   ]
  },
  {
   "cell_type": "code",
   "execution_count": 24,
   "id": "a9bdb2b1",
   "metadata": {},
   "outputs": [
    {
     "name": "stdout",
     "output_type": "stream",
     "text": [
      "(333, 9)\n"
     ]
    }
   ],
   "source": [
    "print(GeneralConfig.stoichiometric_matrix.shape)"
   ]
  },
  {
   "cell_type": "code",
   "execution_count": 49,
   "id": "52535032",
   "metadata": {},
   "outputs": [
    {
     "name": "stdout",
     "output_type": "stream",
     "text": [
      "0.5\n",
      "0.0\n",
      "1e-30\n",
      "[[1.000000e+00 1.000000e-01 1.770001e-04 6.180000e-05 3.340000e-04\n",
      "  3.510000e-06 1.780000e-06 2.256000e-06 3.390000e-08]]\n",
      "[[5.000e-01 1.000e-01 1.000e-10 6.180e-05 3.340e-04 0.000e+00 0.000e+00\n",
      "  2.256e-06 0.000e+00]]\n",
      "Total elemental Si: 1.78e-06\n",
      "Contribution from molecules: 1.78e-06\n"
     ]
    }
   ],
   "source": [
    "elemental_abundances = (\n",
    "    GeneralConfig.initial_abundances @ GeneralConfig.stoichiometric_matrix\n",
    ")\n",
    "\n",
    "elements = [\"H\", \"HE\", \"C\", \"N\", \"O\", \"S\", \"SI\", \"MG\", \"CL\"]\n",
    "\n",
    "\n",
    "def build_molecular_matrix():\n",
    "    elements = [\"H\", \"HE\", \"C\", \"N\", \"O\", \"S\", \"SI\", \"MG\", \"CL\"]\n",
    "    S = GeneralConfig.stoichiometric_matrix\n",
    "    M = S.copy()\n",
    "    for j, sp in enumerate(GeneralConfig.species):\n",
    "        sp_clean = sp.replace(\"BULK_\", \"\").replace(\"SURF_\", \"\")\n",
    "        if sp_clean in elements:\n",
    "            e_idx = elements.index(sp_clean)\n",
    "            M[j, e_idx] = 0\n",
    "    return M\n",
    "\n",
    "\n",
    "def reconstruct_atoms(n_elem, x, M):\n",
    "    return n_elem - (x @ M)\n",
    "\n",
    "\n",
    "M = build_molecular_matrix()\n",
    "j = GeneralConfig.initial_abundances.copy()\n",
    "print(j[0][GeneralConfig.species.index(\"H\")])\n",
    "j[0][GeneralConfig.species.index(\"H\")] = 0\n",
    "print(j[0][GeneralConfig.species.index(\"H\")])\n",
    "print(j[0][GeneralConfig.species.index(\"SI\")])\n",
    "\n",
    "print(elemental_abundances)\n",
    "\n",
    "print(reconstruct_atoms(elemental_abundances, j, M))\n",
    "\n",
    "print(\"Total elemental Si:\", elemental_abundances[0][elements.index(\"SI\")])\n",
    "print(\"Contribution from molecules:\", (j @ M)[0][elements.index(\"SI\")])"
   ]
  }
 ],
 "metadata": {
  "kernelspec": {
   "display_name": "Python 3",
   "language": "python",
   "name": "python3"
  },
  "language_info": {
   "codemirror_mode": {
    "name": "ipython",
    "version": 3
   },
   "file_extension": ".py",
   "mimetype": "text/x-python",
   "name": "python",
   "nbconvert_exporter": "python",
   "pygments_lexer": "ipython3",
   "version": "3.11.9"
  }
 },
 "nbformat": 4,
 "nbformat_minor": 5
}
